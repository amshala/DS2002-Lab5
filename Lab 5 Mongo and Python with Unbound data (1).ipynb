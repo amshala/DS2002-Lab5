{
 "cells": [
  {
   "cell_type": "code",
   "execution_count": 1,
   "id": "865a2f83",
   "metadata": {},
   "outputs": [],
   "source": [
    "import requests\n",
    "from bs4 import BeautifulSoup\n",
    "import pgeocode"
   ]
  },
  {
   "cell_type": "code",
   "execution_count": 2,
   "id": "08eefba4",
   "metadata": {},
   "outputs": [
    {
     "name": "stdout",
     "output_type": "stream",
     "text": [
      "Please enter a zipcode: \n",
      "20170\n",
      "-77.3675 38.9839\n"
     ]
    }
   ],
   "source": [
    "\n",
    "print(\"Please enter a zipcode: \")\n",
    "zipcode = input()\n",
    "nomi = pgeocode.Nominatim('us')\n",
    "# nomi.query_postal_code(zipcode)\n",
    "longitude = str(nomi.query_postal_code(zipcode)['longitude'])\n",
    "latitude = str(nomi.query_postal_code(zipcode)['latitude'])\n",
    "print(longitude,latitude)\n"
   ]
  },
  {
   "cell_type": "code",
   "execution_count": 3,
   "id": "11278170",
   "metadata": {},
   "outputs": [],
   "source": [
    "page = requests.get(\"https://forecast.weather.gov/MapClick.php?lat=\"+latitude+\"&lon=\"+longitude)\n",
    "soup = BeautifulSoup(page.content, 'html.parser')\n",
    "seven_day = soup.find(id=\"seven-day-forecast\")\n",
    "forecast_items = seven_day.find_all(class_=\"tombstone-container\")\n"
   ]
  },
  {
   "cell_type": "code",
   "execution_count": 4,
   "id": "809bb04b",
   "metadata": {},
   "outputs": [],
   "source": [
    "period_tags = seven_day.select(\".tombstone-container .period-name\")\n",
    "periods = [pt.get_text() for pt in period_tags]\n",
    "short_descs = [sd.get_text() for sd in seven_day.select('.tombstone-container .short-desc')]\n",
    "temps = [t.get_text() for t in seven_day.select('.tombstone-container .temp')]\n",
    "descs = [d['title'] for d in seven_day.select('.tombstone-container img')]\n",
    "\n"
   ]
  },
  {
   "cell_type": "code",
   "execution_count": 5,
   "id": "110df288",
   "metadata": {
    "scrolled": true
   },
   "outputs": [
    {
     "data": {
      "text/html": [
       "<div>\n",
       "<style scoped>\n",
       "    .dataframe tbody tr th:only-of-type {\n",
       "        vertical-align: middle;\n",
       "    }\n",
       "\n",
       "    .dataframe tbody tr th {\n",
       "        vertical-align: top;\n",
       "    }\n",
       "\n",
       "    .dataframe thead th {\n",
       "        text-align: right;\n",
       "    }\n",
       "</style>\n",
       "<table border=\"1\" class=\"dataframe\">\n",
       "  <thead>\n",
       "    <tr style=\"text-align: right;\">\n",
       "      <th></th>\n",
       "      <th>period</th>\n",
       "      <th>short_desc</th>\n",
       "      <th>temp</th>\n",
       "      <th>desc</th>\n",
       "    </tr>\n",
       "  </thead>\n",
       "  <tbody>\n",
       "    <tr>\n",
       "      <th>0</th>\n",
       "      <td>Tonight</td>\n",
       "      <td>Clear</td>\n",
       "      <td>Low: 31 °F</td>\n",
       "      <td>Tonight: Clear, with a low around 31. Northwes...</td>\n",
       "    </tr>\n",
       "    <tr>\n",
       "      <th>1</th>\n",
       "      <td>Monday</td>\n",
       "      <td>Sunny</td>\n",
       "      <td>High: 47 °F</td>\n",
       "      <td>Monday: Sunny, with a high near 47. Northwest ...</td>\n",
       "    </tr>\n",
       "    <tr>\n",
       "      <th>2</th>\n",
       "      <td>MondayNight</td>\n",
       "      <td>Mostly Clear</td>\n",
       "      <td>Low: 28 °F</td>\n",
       "      <td>Monday Night: Mostly clear, with a low around ...</td>\n",
       "    </tr>\n",
       "    <tr>\n",
       "      <th>3</th>\n",
       "      <td>Tuesday</td>\n",
       "      <td>Slight ChanceRain thenRain</td>\n",
       "      <td>High: 46 °F</td>\n",
       "      <td>Tuesday: Rain, mainly after 10am.  High near 4...</td>\n",
       "    </tr>\n",
       "    <tr>\n",
       "      <th>4</th>\n",
       "      <td>TuesdayNight</td>\n",
       "      <td>Rain</td>\n",
       "      <td>Low: 39 °F</td>\n",
       "      <td>Tuesday Night: Rain, mainly before 4am.  Low a...</td>\n",
       "    </tr>\n",
       "    <tr>\n",
       "      <th>5</th>\n",
       "      <td>Wednesday</td>\n",
       "      <td>Partly Sunny</td>\n",
       "      <td>High: 50 °F</td>\n",
       "      <td>Wednesday: Partly sunny, with a high near 50.</td>\n",
       "    </tr>\n",
       "    <tr>\n",
       "      <th>6</th>\n",
       "      <td>WednesdayNight</td>\n",
       "      <td>Mostly Clear</td>\n",
       "      <td>Low: 31 °F</td>\n",
       "      <td>Wednesday Night: Mostly clear, with a low arou...</td>\n",
       "    </tr>\n",
       "    <tr>\n",
       "      <th>7</th>\n",
       "      <td>Thursday</td>\n",
       "      <td>Sunny</td>\n",
       "      <td>High: 44 °F</td>\n",
       "      <td>Thursday: Sunny, with a high near 44.</td>\n",
       "    </tr>\n",
       "    <tr>\n",
       "      <th>8</th>\n",
       "      <td>ThursdayNight</td>\n",
       "      <td>Mostly Clear</td>\n",
       "      <td>Low: 26 °F</td>\n",
       "      <td>Thursday Night: Mostly clear, with a low aroun...</td>\n",
       "    </tr>\n",
       "  </tbody>\n",
       "</table>\n",
       "</div>"
      ],
      "text/plain": [
       "           period                  short_desc         temp  \\\n",
       "0         Tonight                       Clear   Low: 31 °F   \n",
       "1          Monday                       Sunny  High: 47 °F   \n",
       "2     MondayNight                Mostly Clear   Low: 28 °F   \n",
       "3         Tuesday  Slight ChanceRain thenRain  High: 46 °F   \n",
       "4    TuesdayNight                        Rain   Low: 39 °F   \n",
       "5       Wednesday                Partly Sunny  High: 50 °F   \n",
       "6  WednesdayNight                Mostly Clear   Low: 31 °F   \n",
       "7        Thursday                       Sunny  High: 44 °F   \n",
       "8   ThursdayNight                Mostly Clear   Low: 26 °F   \n",
       "\n",
       "                                                desc  \n",
       "0  Tonight: Clear, with a low around 31. Northwes...  \n",
       "1  Monday: Sunny, with a high near 47. Northwest ...  \n",
       "2  Monday Night: Mostly clear, with a low around ...  \n",
       "3  Tuesday: Rain, mainly after 10am.  High near 4...  \n",
       "4  Tuesday Night: Rain, mainly before 4am.  Low a...  \n",
       "5      Wednesday: Partly sunny, with a high near 50.  \n",
       "6  Wednesday Night: Mostly clear, with a low arou...  \n",
       "7              Thursday: Sunny, with a high near 44.  \n",
       "8  Thursday Night: Mostly clear, with a low aroun...  "
      ]
     },
     "execution_count": 5,
     "metadata": {},
     "output_type": "execute_result"
    }
   ],
   "source": [
    "#Seven day forecast\n",
    "import pandas as pd\n",
    "weather = pd.DataFrame({\n",
    "    'period':periods,\n",
    "    'short_desc':short_descs,\n",
    "    'temp':temps,\n",
    "    'desc':descs\n",
    "})\n",
    "weather"
   ]
  },
  {
   "cell_type": "code",
   "execution_count": 6,
   "id": "d32ba78f",
   "metadata": {},
   "outputs": [
    {
     "data": {
      "text/html": [
       "<div>\n",
       "<style scoped>\n",
       "    .dataframe tbody tr th:only-of-type {\n",
       "        vertical-align: middle;\n",
       "    }\n",
       "\n",
       "    .dataframe tbody tr th {\n",
       "        vertical-align: top;\n",
       "    }\n",
       "\n",
       "    .dataframe thead th {\n",
       "        text-align: right;\n",
       "    }\n",
       "</style>\n",
       "<table border=\"1\" class=\"dataframe\">\n",
       "  <thead>\n",
       "    <tr style=\"text-align: right;\">\n",
       "      <th></th>\n",
       "      <th>Humidity</th>\n",
       "      <th>Wind Speed</th>\n",
       "      <th>Dewpoint</th>\n",
       "      <th>Last Update Time</th>\n",
       "    </tr>\n",
       "  </thead>\n",
       "  <tbody>\n",
       "    <tr>\n",
       "      <th>0</th>\n",
       "      <td>53%</td>\n",
       "      <td>NW 8 mph</td>\n",
       "      <td>23°F (-5°C)</td>\n",
       "      <td>13 Nov 8:52 pm EST</td>\n",
       "    </tr>\n",
       "  </tbody>\n",
       "</table>\n",
       "</div>"
      ],
      "text/plain": [
       "  Humidity Wind Speed     Dewpoint    Last Update Time\n",
       "0      53%   NW 8 mph  23°F (-5°C)  13 Nov 8:52 pm EST"
      ]
     },
     "execution_count": 6,
     "metadata": {},
     "output_type": "execute_result"
    }
   ],
   "source": [
    "#- humidity, windspeed, Dewpoint and Last Update Time\n",
    "current_conditions = soup.find(id=\"current_conditions_detail\")\n",
    "\n",
    "soup = BeautifulSoup(page.content, 'html.parser')\n",
    "humidity = soup.find_all('td')[1].get_text()\n",
    "wind_speed = soup.find_all('td')[3].get_text()\n",
    "dewpoint = soup.find_all('td')[7].get_text()\n",
    "last_update_time = soup.find_all('td')[13].get_text().strip()\n",
    "\n",
    "current_condition_display =pd.DataFrame([[humidity,wind_speed,dewpoint,last_update_time]], columns=['Humidity','Wind Speed','Dewpoint','Last Update Time'])\n",
    "current_condition_display\n"
   ]
  },
  {
   "cell_type": "code",
   "execution_count": 7,
   "id": "08b91f82",
   "metadata": {},
   "outputs": [],
   "source": [
    "import quandl\n",
    "import pymongo\n",
    "from pymongo import MongoClient"
   ]
  },
  {
   "cell_type": "code",
   "execution_count": 8,
   "id": "190acd8c",
   "metadata": {},
   "outputs": [
    {
     "data": {
      "text/plain": [
       "<pymongo.results.InsertManyResult at 0x2833a7e1cd0>"
      ]
     },
     "execution_count": 8,
     "metadata": {},
     "output_type": "execute_result"
    }
   ],
   "source": [
    "\n",
    "client = MongoClient(\"mongodb://localhost:27017/\")\n",
    "data = weather.to_dict(orient = 'records')\n",
    "db = client['DS2002']\n",
    "db.seven_day_forecast.insert_many(data)"
   ]
  },
  {
   "cell_type": "code",
   "execution_count": 9,
   "id": "e54db8da",
   "metadata": {},
   "outputs": [
    {
     "data": {
      "text/plain": [
       "<pymongo.results.InsertManyResult at 0x28339801d00>"
      ]
     },
     "execution_count": 9,
     "metadata": {},
     "output_type": "execute_result"
    }
   ],
   "source": [
    "data2 = current_condition_display.to_dict(orient = 'records')\n",
    "db.current_condition.insert_many(data2)"
   ]
  }
 ],
 "metadata": {
  "kernelspec": {
   "display_name": "Python 3 (ipykernel)",
   "language": "python",
   "name": "python3"
  },
  "language_info": {
   "codemirror_mode": {
    "name": "ipython",
    "version": 3
   },
   "file_extension": ".py",
   "mimetype": "text/x-python",
   "name": "python",
   "nbconvert_exporter": "python",
   "pygments_lexer": "ipython3",
   "version": "3.9.6"
  }
 },
 "nbformat": 4,
 "nbformat_minor": 5
}
